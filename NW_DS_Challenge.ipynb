{
 "cells": [
  {
   "cell_type": "code",
   "execution_count": 406,
   "id": "40c09233",
   "metadata": {},
   "outputs": [],
   "source": [
    "import pandas as pd\n",
    "import numpy as np\n",
    "import mysql.connector\n",
    "from mysql.connector import Error"
   ]
  },
  {
   "cell_type": "markdown",
   "id": "2ca833f7",
   "metadata": {},
   "source": [
    "# Carga de datos y creación de DB\n",
    "\n",
    "Como la data del problema esta en el archivo trips.csv y se nos pide trabajar desde una DB en SQL, se creará la DB en MySQL la database trips, con la tabla movimientos en donde se almacenará la información"
   ]
  },
  {
   "cell_type": "code",
   "execution_count": 407,
   "id": "f48aa932",
   "metadata": {},
   "outputs": [
    {
     "data": {
      "text/plain": [
       "Index(['region', 'origin_coord', 'destination_coord', 'datetime',\n",
       "       'datasource'],\n",
       "      dtype='object')"
      ]
     },
     "execution_count": 407,
     "metadata": {},
     "output_type": "execute_result"
    }
   ],
   "source": [
    "df = pd.read_csv('trips.csv')\n",
    "df.columns"
   ]
  },
  {
   "cell_type": "code",
   "execution_count": 408,
   "id": "fb961276",
   "metadata": {},
   "outputs": [
    {
     "name": "stdout",
     "output_type": "stream",
     "text": [
      "<class 'pandas.core.frame.DataFrame'>\n",
      "RangeIndex: 100 entries, 0 to 99\n",
      "Data columns (total 5 columns):\n",
      " #   Column             Non-Null Count  Dtype \n",
      "---  ------             --------------  ----- \n",
      " 0   region             100 non-null    object\n",
      " 1   origin_coord       100 non-null    object\n",
      " 2   destination_coord  100 non-null    object\n",
      " 3   datetime           100 non-null    object\n",
      " 4   datasource         100 non-null    object\n",
      "dtypes: object(5)\n",
      "memory usage: 4.0+ KB\n"
     ]
    }
   ],
   "source": [
    "df.info()"
   ]
  },
  {
   "cell_type": "code",
   "execution_count": 409,
   "id": "eec1c49d",
   "metadata": {
    "scrolled": true
   },
   "outputs": [
    {
     "data": {
      "text/html": [
       "<div>\n",
       "<style scoped>\n",
       "    .dataframe tbody tr th:only-of-type {\n",
       "        vertical-align: middle;\n",
       "    }\n",
       "\n",
       "    .dataframe tbody tr th {\n",
       "        vertical-align: top;\n",
       "    }\n",
       "\n",
       "    .dataframe thead th {\n",
       "        text-align: right;\n",
       "    }\n",
       "</style>\n",
       "<table border=\"1\" class=\"dataframe\">\n",
       "  <thead>\n",
       "    <tr style=\"text-align: right;\">\n",
       "      <th></th>\n",
       "      <th>region</th>\n",
       "      <th>origin_coord</th>\n",
       "      <th>destination_coord</th>\n",
       "      <th>datetime</th>\n",
       "      <th>datasource</th>\n",
       "    </tr>\n",
       "  </thead>\n",
       "  <tbody>\n",
       "    <tr>\n",
       "      <th>0</th>\n",
       "      <td>Prague</td>\n",
       "      <td>POINT (14.4973794438195 50.00136875782316)</td>\n",
       "      <td>POINT (14.43109483523328 50.04052930943246)</td>\n",
       "      <td>2018-05-28 09:03:40</td>\n",
       "      <td>funny_car</td>\n",
       "    </tr>\n",
       "    <tr>\n",
       "      <th>1</th>\n",
       "      <td>Turin</td>\n",
       "      <td>POINT (7.672837913286881 44.9957109242058)</td>\n",
       "      <td>POINT (7.720368637535126 45.06782385393849)</td>\n",
       "      <td>2018-05-21 02:54:04</td>\n",
       "      <td>baba_car</td>\n",
       "    </tr>\n",
       "    <tr>\n",
       "      <th>2</th>\n",
       "      <td>Prague</td>\n",
       "      <td>POINT (14.32427345662177 50.00002074358429)</td>\n",
       "      <td>POINT (14.47767895969969 50.09339790740321)</td>\n",
       "      <td>2018-05-13 08:52:25</td>\n",
       "      <td>cheap_mobile</td>\n",
       "    </tr>\n",
       "    <tr>\n",
       "      <th>3</th>\n",
       "      <td>Turin</td>\n",
       "      <td>POINT (7.541509189114433 45.09160503827746)</td>\n",
       "      <td>POINT (7.74528653441973 45.02628598341506)</td>\n",
       "      <td>2018-05-06 09:49:16</td>\n",
       "      <td>bad_diesel_vehicles</td>\n",
       "    </tr>\n",
       "    <tr>\n",
       "      <th>4</th>\n",
       "      <td>Turin</td>\n",
       "      <td>POINT (7.614078119815749 45.13433106465422)</td>\n",
       "      <td>POINT (7.527497142312585 45.03335051325654)</td>\n",
       "      <td>2018-05-23 12:45:54</td>\n",
       "      <td>pt_search_app</td>\n",
       "    </tr>\n",
       "  </tbody>\n",
       "</table>\n",
       "</div>"
      ],
      "text/plain": [
       "   region                                 origin_coord  \\\n",
       "0  Prague   POINT (14.4973794438195 50.00136875782316)   \n",
       "1   Turin   POINT (7.672837913286881 44.9957109242058)   \n",
       "2  Prague  POINT (14.32427345662177 50.00002074358429)   \n",
       "3   Turin  POINT (7.541509189114433 45.09160503827746)   \n",
       "4   Turin  POINT (7.614078119815749 45.13433106465422)   \n",
       "\n",
       "                             destination_coord             datetime  \\\n",
       "0  POINT (14.43109483523328 50.04052930943246)  2018-05-28 09:03:40   \n",
       "1  POINT (7.720368637535126 45.06782385393849)  2018-05-21 02:54:04   \n",
       "2  POINT (14.47767895969969 50.09339790740321)  2018-05-13 08:52:25   \n",
       "3   POINT (7.74528653441973 45.02628598341506)  2018-05-06 09:49:16   \n",
       "4  POINT (7.527497142312585 45.03335051325654)  2018-05-23 12:45:54   \n",
       "\n",
       "            datasource  \n",
       "0            funny_car  \n",
       "1             baba_car  \n",
       "2         cheap_mobile  \n",
       "3  bad_diesel_vehicles  \n",
       "4        pt_search_app  "
      ]
     },
     "execution_count": 409,
     "metadata": {},
     "output_type": "execute_result"
    }
   ],
   "source": [
    "df.head()"
   ]
  },
  {
   "cell_type": "code",
   "execution_count": 410,
   "id": "6989ae65",
   "metadata": {},
   "outputs": [],
   "source": [
    "# Definimos la función para crear la conexión al servidor\n",
    "def create_server_connection(host_name, user_name, user_password):\n",
    "    connection = None\n",
    "    try:\n",
    "        connection = mysql.connector.connect(\n",
    "            host=host_name,\n",
    "            user=user_name,\n",
    "            passwd=user_password\n",
    "        )\n",
    "        print(\"MySQL Database connection successful\")\n",
    "    except Error as err:\n",
    "        print(f\"Error: '{err}'\")\n",
    "\n",
    "    return connection\n",
    "\n",
    "# Definimos la función para crear la base de datos\n",
    "def create_database(connection, query):\n",
    "    cursor = connection.cursor()\n",
    "    try:\n",
    "        cursor.execute(query)\n",
    "        print(\"Database created successfully\")\n",
    "    except Error as err:\n",
    "        print(f\"Error: '{err}'\")"
   ]
  },
  {
   "cell_type": "code",
   "execution_count": 411,
   "id": "75eebeee",
   "metadata": {},
   "outputs": [
    {
     "name": "stdout",
     "output_type": "stream",
     "text": [
      "MySQL Database connection successful\n",
      "Error: '1007 (HY000): Can't create database 'trips'; database exists'\n"
     ]
    }
   ],
   "source": [
    "# Nos conectamos al servidor\n",
    "connection = create_server_connection(\"localhost\", \"root\", \"NW_server_pw\")\n",
    "# Creamos la base de datos\n",
    "create_database(connection, \"CREATE DATABASE trips\")"
   ]
  },
  {
   "cell_type": "code",
   "execution_count": 412,
   "id": "0e905b00",
   "metadata": {},
   "outputs": [],
   "source": [
    "def create_db_connection(host_name, user_name, user_password, db_name):\n",
    "    connection = None\n",
    "    try:\n",
    "        connection = mysql.connector.connect(\n",
    "            host=host_name,\n",
    "            user=user_name,\n",
    "            passwd=user_password,\n",
    "            database=db_name\n",
    "        )\n",
    "        print(\"MySQL Database connection successful\")\n",
    "    except Error as err:\n",
    "        print(f\"Error: '{err}'\")\n",
    "\n",
    "    return connection\n",
    "\n",
    "def execute_query(connection, query):\n",
    "    cursor = connection.cursor()\n",
    "    try:\n",
    "        cursor.execute(query)\n",
    "        connection.commit()\n",
    "        print(\"Query successful\")\n",
    "    except Error as err:\n",
    "        print(f\"Error: '{err}'\")"
   ]
  },
  {
   "cell_type": "code",
   "execution_count": 413,
   "id": "ddcb9379",
   "metadata": {},
   "outputs": [
    {
     "name": "stdout",
     "output_type": "stream",
     "text": [
      "MySQL Database connection successful\n",
      "Query successful\n"
     ]
    }
   ],
   "source": [
    "# Query para crear la tabla viajes\n",
    "create_viaje_table = \"\"\"\n",
    "CREATE TABLE viajes (\n",
    "  region VARCHAR(7) NOT NULL,\n",
    "  origin_coord VARCHAR(50) NOT NULL,\n",
    "  destination_coord VARCHAR(50) NOT NULL,\n",
    "  datetime DATETIME NOT NULL,\n",
    "  datasource VARCHAR(20) NOT NULL\n",
    "  );\n",
    " \"\"\"\n",
    "\n",
    "# Nos conectamos a la base de datos\n",
    "connection = create_db_connection(\"localhost\", \"root\", \"NW_server_pw\", \"trips\")\n",
    "# Ejecutamos la query\n",
    "execute_query(connection, create_viaje_table) "
   ]
  },
  {
   "cell_type": "code",
   "execution_count": 414,
   "id": "0b0ffcda",
   "metadata": {},
   "outputs": [],
   "source": [
    "cols = \"`,`\".join([str(i) for i in df.columns.tolist()])\n",
    "cursor = connection.cursor()\n",
    "\n",
    "# Insertamos las filas del DataFrame una por una\n",
    "for i,row in df.iterrows():\n",
    "    sql = \"INSERT INTO `viajes` (`\" +cols + \"`) VALUES (\" + \"%s,\"*(len(row)-1) + \"%s)\"\n",
    "    cursor.execute(sql, tuple(row))\n",
    "    connection.commit()"
   ]
  },
  {
   "cell_type": "code",
   "execution_count": 415,
   "id": "974b8412",
   "metadata": {},
   "outputs": [],
   "source": [
    "# Terminamos la conexión con la base de datos\n",
    "connection.close()"
   ]
  },
  {
   "cell_type": "markdown",
   "id": "d7f92e65",
   "metadata": {},
   "source": [
    " # Conexión a la DB\n",
    " \n",
    " Ahora se asume que la información en la base de datos esta actualizada y solo se necesita conectarse desde Python para trabajar en el problema"
   ]
  },
  {
   "cell_type": "code",
   "execution_count": 416,
   "id": "6f4ae810",
   "metadata": {},
   "outputs": [
    {
     "name": "stdout",
     "output_type": "stream",
     "text": [
      "MySQL Database connection successful\n"
     ]
    }
   ],
   "source": [
    "# Nos conectamos a la base de datos 'trips'\n",
    "connection = create_db_connection(\"localhost\", \"root\", \"NW_server_pw\", \"trips\")"
   ]
  },
  {
   "cell_type": "code",
   "execution_count": 417,
   "id": "93b4758d",
   "metadata": {},
   "outputs": [
    {
     "data": {
      "text/html": [
       "<div>\n",
       "<style scoped>\n",
       "    .dataframe tbody tr th:only-of-type {\n",
       "        vertical-align: middle;\n",
       "    }\n",
       "\n",
       "    .dataframe tbody tr th {\n",
       "        vertical-align: top;\n",
       "    }\n",
       "\n",
       "    .dataframe thead th {\n",
       "        text-align: right;\n",
       "    }\n",
       "</style>\n",
       "<table border=\"1\" class=\"dataframe\">\n",
       "  <thead>\n",
       "    <tr style=\"text-align: right;\">\n",
       "      <th></th>\n",
       "      <th>region</th>\n",
       "      <th>origin_coord</th>\n",
       "      <th>destination_coord</th>\n",
       "      <th>datetime</th>\n",
       "      <th>datasource</th>\n",
       "    </tr>\n",
       "  </thead>\n",
       "  <tbody>\n",
       "    <tr>\n",
       "      <th>0</th>\n",
       "      <td>Prague</td>\n",
       "      <td>POINT (14.4973794438195 50.00136875782316)</td>\n",
       "      <td>POINT (14.43109483523328 50.04052930943246)</td>\n",
       "      <td>2018-05-28 09:03:40</td>\n",
       "      <td>funny_car</td>\n",
       "    </tr>\n",
       "    <tr>\n",
       "      <th>1</th>\n",
       "      <td>Turin</td>\n",
       "      <td>POINT (7.672837913286881 44.9957109242058)</td>\n",
       "      <td>POINT (7.720368637535126 45.06782385393849)</td>\n",
       "      <td>2018-05-21 02:54:04</td>\n",
       "      <td>baba_car</td>\n",
       "    </tr>\n",
       "    <tr>\n",
       "      <th>2</th>\n",
       "      <td>Prague</td>\n",
       "      <td>POINT (14.32427345662177 50.00002074358429)</td>\n",
       "      <td>POINT (14.47767895969969 50.09339790740321)</td>\n",
       "      <td>2018-05-13 08:52:25</td>\n",
       "      <td>cheap_mobile</td>\n",
       "    </tr>\n",
       "    <tr>\n",
       "      <th>3</th>\n",
       "      <td>Turin</td>\n",
       "      <td>POINT (7.541509189114433 45.09160503827746)</td>\n",
       "      <td>POINT (7.74528653441973 45.02628598341506)</td>\n",
       "      <td>2018-05-06 09:49:16</td>\n",
       "      <td>bad_diesel_vehicles</td>\n",
       "    </tr>\n",
       "    <tr>\n",
       "      <th>4</th>\n",
       "      <td>Turin</td>\n",
       "      <td>POINT (7.614078119815749 45.13433106465422)</td>\n",
       "      <td>POINT (7.527497142312585 45.03335051325654)</td>\n",
       "      <td>2018-05-23 12:45:54</td>\n",
       "      <td>pt_search_app</td>\n",
       "    </tr>\n",
       "  </tbody>\n",
       "</table>\n",
       "</div>"
      ],
      "text/plain": [
       "   region                                 origin_coord  \\\n",
       "0  Prague   POINT (14.4973794438195 50.00136875782316)   \n",
       "1   Turin   POINT (7.672837913286881 44.9957109242058)   \n",
       "2  Prague  POINT (14.32427345662177 50.00002074358429)   \n",
       "3   Turin  POINT (7.541509189114433 45.09160503827746)   \n",
       "4   Turin  POINT (7.614078119815749 45.13433106465422)   \n",
       "\n",
       "                             destination_coord            datetime  \\\n",
       "0  POINT (14.43109483523328 50.04052930943246) 2018-05-28 09:03:40   \n",
       "1  POINT (7.720368637535126 45.06782385393849) 2018-05-21 02:54:04   \n",
       "2  POINT (14.47767895969969 50.09339790740321) 2018-05-13 08:52:25   \n",
       "3   POINT (7.74528653441973 45.02628598341506) 2018-05-06 09:49:16   \n",
       "4  POINT (7.527497142312585 45.03335051325654) 2018-05-23 12:45:54   \n",
       "\n",
       "            datasource  \n",
       "0            funny_car  \n",
       "1             baba_car  \n",
       "2         cheap_mobile  \n",
       "3  bad_diesel_vehicles  \n",
       "4        pt_search_app  "
      ]
     },
     "execution_count": 417,
     "metadata": {},
     "output_type": "execute_result"
    }
   ],
   "source": [
    "# Cargamos la información de la base de datos a un dataframe\n",
    "sql_query = pd.read_sql_query ('''\n",
    "                               SELECT\n",
    "                               *\n",
    "                               FROM viajes\n",
    "                               ''', connection)\n",
    "\n",
    "data= pd.DataFrame(sql_query, columns = [\"region\", \"origin_coord\", \"destination_coord\",\n",
    "                                        \"datetime\", \"datasource\"])\n",
    "data.head()"
   ]
  },
  {
   "cell_type": "code",
   "execution_count": 418,
   "id": "6d09ecbf",
   "metadata": {},
   "outputs": [],
   "source": [
    "# Terminamos la conexión con la base de datos\n",
    "connection.close()"
   ]
  },
  {
   "cell_type": "markdown",
   "id": "ed35eef1",
   "metadata": {},
   "source": [
    "# Problema 1"
   ]
  },
  {
   "cell_type": "code",
   "execution_count": 929,
   "id": "c5820fd9",
   "metadata": {},
   "outputs": [],
   "source": [
    "import matplotlib.pyplot as plt\n",
    "from sklearn.cluster import KMeans\n",
    "from sklearn.preprocessing import StandardScaler\n",
    "import seaborn as sns"
   ]
  },
  {
   "cell_type": "code",
   "execution_count": 930,
   "id": "1d85d392",
   "metadata": {},
   "outputs": [],
   "source": [
    "# Definimos función que transforma las coordenadas en pares\n",
    "def to_coord(col, data = data):\n",
    "    aux = data[col]\n",
    "    new_col = np.empty([len(aux),2])\n",
    "    for i in range(len(aux)):\n",
    "        x,y = aux[aux.index[i]][7:-1].split()\n",
    "        new_col[i,:] = np.array([x,y]) \n",
    "    return new_col"
   ]
  },
  {
   "cell_type": "code",
   "execution_count": 931,
   "id": "7aa688cb",
   "metadata": {},
   "outputs": [],
   "source": [
    "# Coordenadas origen y destino en arrays numéricos\n",
    "new_origin = to_coord('origin_coord')\n",
    "new_destin = to_coord('destination_coord')"
   ]
  },
  {
   "cell_type": "markdown",
   "id": "41ff4c2a",
   "metadata": {},
   "source": [
    "### Modelos para agrupar viajes por origen-destino y hora"
   ]
  },
  {
   "cell_type": "markdown",
   "id": "fbb3283f",
   "metadata": {},
   "source": [
    "En primera instancia hacemos k-means para agrupar viajes similares, sin considerar los horarios del viaje"
   ]
  },
  {
   "cell_type": "code",
   "execution_count": 947,
   "id": "483a1daf",
   "metadata": {},
   "outputs": [
    {
     "data": {
      "image/png": "[encoded data removed]",
      "text/plain": [
       "<Figure size 576x432 with 1 Axes>"
      ]
     },
     "metadata": {
      "needs_background": "light"
     },
     "output_type": "display_data"
    }
   ],
   "source": [
    "X = np.empty([len(data),4])\n",
    "X[:,0] = new_origin[:,0]\n",
    "X[:,1] = new_destin[:,0]\n",
    "X[:,2] = new_origin[:,1]\n",
    "X[:,3] = new_destin[:,1]\n",
    "\n",
    "# Estandarizamos las variables\n",
    "scaler = StandardScaler()\n",
    "X_scaled = scaler.fit_transform(X)\n",
    "\n",
    "Nc = range(3, 40)\n",
    "kmeans = [KMeans(n_clusters=i) for i in Nc]\n",
    "score = [kmeans[i].fit(X_scaled).score(X_scaled) for i in range(len(kmeans))]\n",
    "f = plt.figure()\n",
    "f.set_figwidth(8)\n",
    "f.set_figheight(6)\n",
    "plt.plot(Nc,score)\n",
    "plt.grid()\n",
    "plt.xlabel('Number of Clusters')\n",
    "plt.ylabel('Score')\n",
    "plt.title('Elbow Curve')\n",
    "plt.show()"
   ]
  },
  {
   "cell_type": "markdown",
   "id": "13e1d370",
   "metadata": {},
   "source": [
    "El gráfico sugiere una división de 16 grupos "
   ]
  },
  {
   "cell_type": "code",
   "execution_count": 934,
   "id": "27a85e8d",
   "metadata": {
    "scrolled": true
   },
   "outputs": [],
   "source": [
    "kmeans_geo = KMeans(n_clusters=16).fit(X_scaled)\n",
    "centroids_geo = kmeans_geo.cluster_centers_"
   ]
  },
  {
   "cell_type": "markdown",
   "id": "a8838e1f",
   "metadata": {},
   "source": [
    "Luego, hacemos k-means por horario del viaje, para identificar viajes similares según su hora del día"
   ]
  },
  {
   "cell_type": "code",
   "execution_count": 935,
   "id": "c4fdb745",
   "metadata": {},
   "outputs": [],
   "source": [
    "#Recive array de datetime y retorna en un array la hora del día de cada datetime en segundos\n",
    "def time_to_num(array):\n",
    "    # Aislamos la hora (hh,mm,ss) de cada viaje \n",
    "    hora = np.array([array[array.index[i]].time() for i in range(len(array))])\n",
    "    # Pasamos la hora a segundos de manera numérica\n",
    "    hora_num = np.array([hora[i].hour*(60**2)+hora[i].minute*60+hora[i].second for i in range(len(array))])\n",
    "    return hora_num"
   ]
  },
  {
   "cell_type": "code",
   "execution_count": 936,
   "id": "718b4675",
   "metadata": {},
   "outputs": [
    {
     "data": {
      "image/png": "[encoded data removed]",
      "text/plain": [
       "<Figure size 360x360 with 1 Axes>"
      ]
     },
     "metadata": {
      "needs_background": "light"
     },
     "output_type": "display_data"
    }
   ],
   "source": [
    "hora_num  = time_to_num(data['datetime'])\n",
    "\n",
    "#visualizamos la distribución de los viajes \n",
    "#cada barra agrupa 1 hora del día\n",
    "sns.displot(hora_num, bins=24, rug=True)\n",
    "plt.show()"
   ]
  },
  {
   "cell_type": "markdown",
   "id": "5079f0ce",
   "metadata": {},
   "source": [
    "Según el histograma y considerando que se tienen que asociar viajes de horarios similares se decide realizar 7 grupos horarios estos serían:\n",
    "\n",
    "0. 00:00:00 a 03:29:59 \n",
    "1. 03:30:00 a 07:59:59 \n",
    "2. 08:00:00 a 11:29:59 \n",
    "3. 11:30:00 a 14:29:59 \n",
    "4. 14:30:00 a 17:29:59 \n",
    "5. 17:30:00 a 20:29:59\n",
    "6. 20:30:00 a 23:59:59\n"
   ]
  },
  {
   "cell_type": "code",
   "execution_count": 953,
   "id": "f9d21c21",
   "metadata": {},
   "outputs": [],
   "source": [
    "#En base a los grupos horarios definimos una funcion que entrega etiquetas (0 a 6)\n",
    "#según el horario del viaje de forma numérica\n",
    "def time_tags(horas):\n",
    "    tags = []\n",
    "    for i in range(len(horas)):\n",
    "        if horas[i]<(3*60**2+30*60):\n",
    "            tags.append(0)\n",
    "        elif horas[i]<(8*60**2):\n",
    "            tags.append(1)\n",
    "        elif horas[i]<(11*60**2+30*60):\n",
    "            tags.append(2)\n",
    "        elif horas[i]<(14*60**2+30*60):\n",
    "            tags.append(3)\n",
    "        elif horas[i]<(17*60**2+30*60):\n",
    "            tags.append(4)\n",
    "        elif horas[i]<(20*60**2+30*60):\n",
    "            tags.append(5)\n",
    "        else:\n",
    "            tags.append(6)\n",
    "    return tags"
   ]
  },
  {
   "cell_type": "markdown",
   "id": "f238c003",
   "metadata": {},
   "source": [
    "### Agrupamos los viajes\n",
    "\n",
    "Juntamos las dos etiquetas, por coordenadas del viaje y por hora del viaje para realizar la agrupación de los traslados origen-destino-hora similares según los k-means realizados"
   ]
  },
  {
   "cell_type": "code",
   "execution_count": 938,
   "id": "493043ec",
   "metadata": {},
   "outputs": [],
   "source": [
    "#creamos las etiquetas de los viajes según origen-destino y según hora del viaje\n",
    "labels_geo = kmeans_geo.predict(X_scaled)\n",
    "labels_time = time_tags(hora_num)\n",
    "\n",
    "#juntamos las etiquetas en una etiqueta doble\n",
    "tags = [str(labels_geo[i])+','+str(labels_time[i]) for i in range(len(labels_geo))]\n",
    "\n",
    "#agregamos la etiqueta a nuestro dataframe para asociarlas cada viaje\n",
    "data['label'] = tags"
   ]
  },
  {
   "cell_type": "code",
   "execution_count": 948,
   "id": "ec925670",
   "metadata": {
    "scrolled": true
   },
   "outputs": [],
   "source": [
    "#creamos un nuevo dataframe con las etiquetas y su cuenta\n",
    "df_grouped = data.groupby(['label'])['region'].count().reset_index()\n",
    "df_grouped.rename({'region':'count'},axis=1,inplace=True)"
   ]
  },
  {
   "cell_type": "markdown",
   "id": "18588436",
   "metadata": {},
   "source": [
    "### Trabajar nueva data\n",
    "\n",
    "Así, cuando llegue nueva data basta aplicar al nuevo dataframe la función add_to_grouped (definida a continuación), que llama a new_data_tags para conseguir la etiqueta de cada viaje nuevo y luego, los agrega a df_grouped si no está la etiqueta, o suma 1 al contador con la misma etiqueta por cada viaje nuevo agregado."
   ]
  },
  {
   "cell_type": "code",
   "execution_count": 950,
   "id": "35cea1bf",
   "metadata": {},
   "outputs": [],
   "source": [
    "def new_data_tags(df):\n",
    "    #label del viaje por origen-destino\n",
    "    new_origin = to_coord('origin_coord', df)\n",
    "    new_destin = to_coord('destination_coord', df)\n",
    "    X = np.empty([len(df),4])\n",
    "    X[:,0] = new_origin[:,0]\n",
    "    X[:,1] = new_destin[:,0]\n",
    "    X[:,2] = new_origin[:,1]\n",
    "    X[:,3] = new_destin[:,1]\n",
    "    #scaler ya esta entrenado\n",
    "    X_scaled = scaler.transform(X)\n",
    "    #kmeans ya entrenado\n",
    "    labels_geo = kmeans_geo.predict(X_scaled)\n",
    "    \n",
    "    #label del viaje por su hora\n",
    "    hora_num = time_to_num(df['datetime'])\n",
    "    labels_time = time_tags(hora_num)\n",
    "    \n",
    "    #juntamos las etiquetas en una etiqueta doble\n",
    "    tags = [str(labels_geo[i])+','+str(labels_time[i]) for i in range(len(labels_geo))]\n",
    "    \n",
    "    return tags\n",
    "\n",
    "def add_to_grouped(df):\n",
    "    #genereramos las etiquetas de los nuevos viajes\n",
    "    tags = new_data_tags(df)\n",
    "    for t in tags:\n",
    "        tag_ind = df_grouped[df_grouped['label']==t].index\n",
    "        if len(tag_ind)>0:   #se suma 1 al contador si está la etiqueta\n",
    "            df_grouped.iloc[tag_ind,1]+=1                    \n",
    "        else:                #se agrega la etiqueta al final del dataframe si no existía\n",
    "            df_grouped.loc[len(df_grouped)] = [t,1]\n",
    "    "
   ]
  },
  {
   "cell_type": "code",
   "execution_count": 949,
   "id": "21ce8844",
   "metadata": {},
   "outputs": [
    {
     "data": {
      "text/html": [
       "<div>\n",
       "<style scoped>\n",
       "    .dataframe tbody tr th:only-of-type {\n",
       "        vertical-align: middle;\n",
       "    }\n",
       "\n",
       "    .dataframe tbody tr th {\n",
       "        vertical-align: top;\n",
       "    }\n",
       "\n",
       "    .dataframe thead th {\n",
       "        text-align: right;\n",
       "    }\n",
       "</style>\n",
       "<table border=\"1\" class=\"dataframe\">\n",
       "  <thead>\n",
       "    <tr style=\"text-align: right;\">\n",
       "      <th></th>\n",
       "      <th>label</th>\n",
       "      <th>count</th>\n",
       "    </tr>\n",
       "  </thead>\n",
       "  <tbody>\n",
       "    <tr>\n",
       "      <th>0</th>\n",
       "      <td>0,0</td>\n",
       "      <td>2</td>\n",
       "    </tr>\n",
       "    <tr>\n",
       "      <th>1</th>\n",
       "      <td>0,1</td>\n",
       "      <td>2</td>\n",
       "    </tr>\n",
       "    <tr>\n",
       "      <th>2</th>\n",
       "      <td>0,2</td>\n",
       "      <td>1</td>\n",
       "    </tr>\n",
       "    <tr>\n",
       "      <th>3</th>\n",
       "      <td>0,3</td>\n",
       "      <td>1</td>\n",
       "    </tr>\n",
       "    <tr>\n",
       "      <th>4</th>\n",
       "      <td>0,4</td>\n",
       "      <td>3</td>\n",
       "    </tr>\n",
       "    <tr>\n",
       "      <th>...</th>\n",
       "      <td>...</td>\n",
       "      <td>...</td>\n",
       "    </tr>\n",
       "    <tr>\n",
       "      <th>61</th>\n",
       "      <td>8,4</td>\n",
       "      <td>1</td>\n",
       "    </tr>\n",
       "    <tr>\n",
       "      <th>62</th>\n",
       "      <td>9,0</td>\n",
       "      <td>1</td>\n",
       "    </tr>\n",
       "    <tr>\n",
       "      <th>63</th>\n",
       "      <td>9,2</td>\n",
       "      <td>2</td>\n",
       "    </tr>\n",
       "    <tr>\n",
       "      <th>64</th>\n",
       "      <td>9,4</td>\n",
       "      <td>1</td>\n",
       "    </tr>\n",
       "    <tr>\n",
       "      <th>65</th>\n",
       "      <td>9,5</td>\n",
       "      <td>2</td>\n",
       "    </tr>\n",
       "  </tbody>\n",
       "</table>\n",
       "<p>66 rows × 2 columns</p>\n",
       "</div>"
      ],
      "text/plain": [
       "   label  count\n",
       "0    0,0      2\n",
       "1    0,1      2\n",
       "2    0,2      1\n",
       "3    0,3      1\n",
       "4    0,4      3\n",
       "..   ...    ...\n",
       "61   8,4      1\n",
       "62   9,0      1\n",
       "63   9,2      2\n",
       "64   9,4      1\n",
       "65   9,5      2\n",
       "\n",
       "[66 rows x 2 columns]"
      ]
     },
     "execution_count": 949,
     "metadata": {},
     "output_type": "execute_result"
    }
   ],
   "source": [
    "df_grouped"
   ]
  },
  {
   "cell_type": "code",
   "execution_count": 951,
   "id": "e30e2e9e",
   "metadata": {},
   "outputs": [
    {
     "name": "stderr",
     "output_type": "stream",
     "text": [
      "D:\\Users\\piper\\anaconda3\\lib\\site-packages\\pandas\\core\\indexing.py:1637: SettingWithCopyWarning: \n",
      "A value is trying to be set on a copy of a slice from a DataFrame\n",
      "\n",
      "See the caveats in the documentation: https://pandas.pydata.org/pandas-docs/stable/user_guide/indexing.html#returning-a-view-versus-a-copy\n",
      "  self._setitem_single_block(indexer, value, name)\n",
      "D:\\Users\\piper\\anaconda3\\lib\\site-packages\\pandas\\core\\indexing.py:692: SettingWithCopyWarning: \n",
      "A value is trying to be set on a copy of a slice from a DataFrame\n",
      "\n",
      "See the caveats in the documentation: https://pandas.pydata.org/pandas-docs/stable/user_guide/indexing.html#returning-a-view-versus-a-copy\n",
      "  iloc._setitem_with_indexer(indexer, value, self.name)\n"
     ]
    }
   ],
   "source": [
    "#Ejemplo\n",
    "\n",
    "#La etiqueta '9,4' está en df_grouped 1 vez, pero '9,3' no está, por lo que agregaremos un\n",
    "#viaje '9,4' y uno '9,3' para evaluar ambos casos, para esto tomaremos el mismo viaje con \n",
    "#etiqueta '9,4' y le cambiaremos el horario a 12:00:00 para que su nueva etiqueta sea '9,3'.\n",
    "\n",
    "new_df = data[data['label']=='9,4'].copy()\n",
    "new_trip = new_df.iloc[0,:]\n",
    "new_trip.iloc[3] = pd.to_datetime('2018-05-20 12:00:00')\n",
    "new_df.loc[1,:] = new_trip"
   ]
  },
  {
   "cell_type": "code",
   "execution_count": 952,
   "id": "b2a71970",
   "metadata": {},
   "outputs": [
    {
     "data": {
      "text/html": [
       "<div>\n",
       "<style scoped>\n",
       "    .dataframe tbody tr th:only-of-type {\n",
       "        vertical-align: middle;\n",
       "    }\n",
       "\n",
       "    .dataframe tbody tr th {\n",
       "        vertical-align: top;\n",
       "    }\n",
       "\n",
       "    .dataframe thead th {\n",
       "        text-align: right;\n",
       "    }\n",
       "</style>\n",
       "<table border=\"1\" class=\"dataframe\">\n",
       "  <thead>\n",
       "    <tr style=\"text-align: right;\">\n",
       "      <th></th>\n",
       "      <th>label</th>\n",
       "      <th>count</th>\n",
       "    </tr>\n",
       "  </thead>\n",
       "  <tbody>\n",
       "    <tr>\n",
       "      <th>0</th>\n",
       "      <td>0,0</td>\n",
       "      <td>2</td>\n",
       "    </tr>\n",
       "    <tr>\n",
       "      <th>1</th>\n",
       "      <td>0,1</td>\n",
       "      <td>2</td>\n",
       "    </tr>\n",
       "    <tr>\n",
       "      <th>2</th>\n",
       "      <td>0,2</td>\n",
       "      <td>1</td>\n",
       "    </tr>\n",
       "    <tr>\n",
       "      <th>3</th>\n",
       "      <td>0,3</td>\n",
       "      <td>1</td>\n",
       "    </tr>\n",
       "    <tr>\n",
       "      <th>4</th>\n",
       "      <td>0,4</td>\n",
       "      <td>3</td>\n",
       "    </tr>\n",
       "    <tr>\n",
       "      <th>...</th>\n",
       "      <td>...</td>\n",
       "      <td>...</td>\n",
       "    </tr>\n",
       "    <tr>\n",
       "      <th>62</th>\n",
       "      <td>9,0</td>\n",
       "      <td>1</td>\n",
       "    </tr>\n",
       "    <tr>\n",
       "      <th>63</th>\n",
       "      <td>9,2</td>\n",
       "      <td>2</td>\n",
       "    </tr>\n",
       "    <tr>\n",
       "      <th>64</th>\n",
       "      <td>9,4</td>\n",
       "      <td>2</td>\n",
       "    </tr>\n",
       "    <tr>\n",
       "      <th>65</th>\n",
       "      <td>9,5</td>\n",
       "      <td>2</td>\n",
       "    </tr>\n",
       "    <tr>\n",
       "      <th>66</th>\n",
       "      <td>9,3</td>\n",
       "      <td>1</td>\n",
       "    </tr>\n",
       "  </tbody>\n",
       "</table>\n",
       "<p>67 rows × 2 columns</p>\n",
       "</div>"
      ],
      "text/plain": [
       "   label  count\n",
       "0    0,0      2\n",
       "1    0,1      2\n",
       "2    0,2      1\n",
       "3    0,3      1\n",
       "4    0,4      3\n",
       "..   ...    ...\n",
       "62   9,0      1\n",
       "63   9,2      2\n",
       "64   9,4      2\n",
       "65   9,5      2\n",
       "66   9,3      1\n",
       "\n",
       "[67 rows x 2 columns]"
      ]
     },
     "execution_count": 952,
     "metadata": {},
     "output_type": "execute_result"
    }
   ],
   "source": [
    "add_to_grouped(new_df)\n",
    "df_grouped"
   ]
  },
  {
   "cell_type": "markdown",
   "id": "aa6d9a7d",
   "metadata": {},
   "source": [
    "# Problema 2"
   ]
  },
  {
   "cell_type": "code",
   "execution_count": 964,
   "id": "d385ffd7",
   "metadata": {},
   "outputs": [],
   "source": [
    "#Se asume que el bounding box se entrega como coordenadas x1,y1,x2,y2, donde x1<=x2 e y1<=y2\n",
    "#Se entiende que tanto el origen como el destino tienen que estar dentro del bounding box\n",
    "def weekly_mean(x1,y1,x2,y2,region):\n",
    "    #query región\n",
    "    data_reg = data[data['region'] == region].copy()\n",
    "    \n",
    "    #pasamos las coordenadas a pares numéricos\n",
    "    new_origen = to_coord('origin_coord', data_reg)\n",
    "    new_destin = to_coord('destination_coord', data_reg)\n",
    "    \n",
    "    #Se filtra los viajes dentro de la bounding box\n",
    "    low_bound = [all(new_origen[i] >= [x1,y1]) and all(new_destin[i] >= [x1,y1]) \n",
    "                 for i in range(len(data_reg))]\n",
    "    up_bound = [all(new_origen[i] <= [x2,y2]) and all(new_destin[i] <= [x2,y2]) \n",
    "                 for i in range(len(data_reg))]\n",
    "    #query bounding box\n",
    "    data_bound = data_reg[low_bound and up_bound]\n",
    "    \n",
    "    #agrupamos por semana y sacamos promedio\n",
    "    week_mean = data_bound.groupby(pd.Grouper(key='datetime', freq='W-MON', label='left')\n",
    "                        )['datetime'].count().mean()\n",
    "    \n",
    "    #opciones de entrega de la respuesta como un string o numérico\n",
    "    print('Promedio de viajes semanal = '+str(week_mean))\n",
    "    return week_mean"
   ]
  },
  {
   "cell_type": "code",
   "execution_count": 965,
   "id": "99f50165",
   "metadata": {},
   "outputs": [
    {
     "name": "stdout",
     "output_type": "stream",
     "text": [
      "Promedio de viajes semanal = 6.8\n"
     ]
    }
   ],
   "source": [
    "#testeo region 'Prague'\n",
    "wm = weekly_mean(0,0,100,100,'Prague')"
   ]
  },
  {
   "cell_type": "markdown",
   "id": "02bfe251",
   "metadata": {},
   "source": [
    "## Estado de la ingesta de datos\n",
    "\n",
    "Para este último problema se creará un trigger en caso de que se agregue nueva data a nuestra base de datos en SQL lo que nos indicará que nuestro dataframe en Python no esta actualizado. Se crean tres trigger (update, insert y delete) y además, se crea la tabla cambios para almacenar información sobre cambios en la tabla viajes."
   ]
  },
  {
   "cell_type": "code",
   "execution_count": 969,
   "id": "b41a835b",
   "metadata": {},
   "outputs": [
    {
     "name": "stdout",
     "output_type": "stream",
     "text": [
      "MySQL Database connection successful\n",
      "Error: '1050 (42S01): Table 'cambios' already exists'\n",
      "Query successful\n",
      "Query successful\n",
      "Query successful\n"
     ]
    }
   ],
   "source": [
    "# Nos conectamos a la base de datos 'trips'\n",
    "connection = create_db_connection(\"localhost\", \"root\", \"NW_server_pw\", \"trips\")\n",
    "\n",
    "# Query para crear la tabla cambios\n",
    "create_cambios_table = \"\"\"\n",
    "CREATE TABLE cambios (\n",
    "  state VARCHAR(8) NOT NULL\n",
    "  );\n",
    " \"\"\"\n",
    "\n",
    "# Query para crear update trigger\n",
    "create_update_trigger = \"\"\"\n",
    "CREATE TRIGGER update_trigger \n",
    "AFTER UPDATE\n",
    "ON viajes FOR EACH ROW\n",
    "BEGIN\n",
    "    INSERT INTO cambios\n",
    "    (state)\n",
    "    VALUES\n",
    "    ('UPDATED');\n",
    "END;\n",
    "\"\"\"\n",
    "\n",
    "# Query para crear insert trigger\n",
    "create_insert_trigger = \"\"\"\n",
    "CREATE TRIGGER insert_trigger \n",
    "AFTER INSERT\n",
    "ON viajes FOR EACH ROW\n",
    "BEGIN\n",
    "    INSERT INTO cambios\n",
    "    (state)\n",
    "    VALUES\n",
    "    ('INSERTED');\n",
    "END;\n",
    "\"\"\"\n",
    "\n",
    "# Query para crear delete_trigger\n",
    "create_delete_trigger = \"\"\"\n",
    "CREATE TRIGGER delete_trigger \n",
    "AFTER DELETE\n",
    "ON viajes FOR EACH ROW\n",
    "BEGIN\n",
    "    INSERT INTO cambios\n",
    "    (state)\n",
    "    VALUES\n",
    "    ('DELETED');\n",
    "END;\n",
    "\"\"\"\n",
    "\n",
    "# Ejecutamos las querys\n",
    "execute_query(connection, create_cambios_table) \n",
    "execute_query(connection, create_update_trigger)\n",
    "execute_query(connection, create_insert_trigger)\n",
    "execute_query(connection, create_delete_trigger)\n",
    "\n",
    "#terminamos la conexión \n",
    "connection.close()"
   ]
  },
  {
   "cell_type": "markdown",
   "id": "4f46a166",
   "metadata": {},
   "source": [
    "Luego, basta saber el largo de la tabla cambios al momento de ingerir los datos desde SQL para poder responder a la pregunta de si han habido cambios en la base de datos."
   ]
  },
  {
   "cell_type": "code",
   "execution_count": 970,
   "id": "85dc767c",
   "metadata": {},
   "outputs": [
    {
     "name": "stdout",
     "output_type": "stream",
     "text": [
      "MySQL Database connection successful\n"
     ]
    }
   ],
   "source": [
    "# Nos conectamos a la base de datos 'trips' \n",
    "connection = create_db_connection(\"localhost\", \"root\", \"NW_server_pw\", \"trips\")\n",
    "\n",
    "sql_query_cambios = pd.read_sql_query ('''\n",
    "                               SELECT\n",
    "                               *\n",
    "                               FROM cambios\n",
    "                               ''', connection)\n",
    "\n",
    "data_cambios= pd.DataFrame(sql_query_cambios, columns = ['state'])\n",
    "\n",
    "#terminamos la conexión \n",
    "connection.close()\n",
    "\n",
    "actual = len(data_cambios)"
   ]
  },
  {
   "cell_type": "code",
   "execution_count": 976,
   "id": "270b151a",
   "metadata": {},
   "outputs": [],
   "source": [
    "# Definimos la función que nos entrega el estado de la ingesta de datos\n",
    "def ingest_state(actual):\n",
    "    # Nos conectamos a la base de datos 'trips' \n",
    "    connection = create_db_connection(\"localhost\", \"root\", \"NW_server_pw\", \"trips\")\n",
    "\n",
    "    sql_query_cambios = pd.read_sql_query ('''\n",
    "                                   SELECT\n",
    "                                   *\n",
    "                                   FROM cambios\n",
    "                                   ''', connection)\n",
    "    \n",
    "    data= pd.DataFrame(sql_query_cambios, columns = ['state'])\n",
    "\n",
    "    #terminamos la conexión \n",
    "    connection.close()\n",
    "    \n",
    "    new = len(data)\n",
    "    \n",
    "    #Preguntamos si hubieron nuevos cambios\n",
    "    if new>actual:\n",
    "        state = 'desactualizado'\n",
    "    else:\n",
    "        state = 'actualizado'\n",
    "    \n",
    "    print('El estado de la ingesta de datos está ' + state)\n",
    "        \n",
    "    "
   ]
  },
  {
   "cell_type": "code",
   "execution_count": 977,
   "id": "38a97a30",
   "metadata": {},
   "outputs": [
    {
     "name": "stdout",
     "output_type": "stream",
     "text": [
      "MySQL Database connection successful\n",
      "El estado de la ingesta de datos está actualizado\n"
     ]
    }
   ],
   "source": [
    "#test\n",
    "ingest_state(actual)"
   ]
  }
 ],
 "metadata": {
  "kernelspec": {
   "display_name": "Python 3",
   "language": "python",
   "name": "python3"
  },
  "language_info": {
   "codemirror_mode": {
    "name": "ipython",
    "version": 3
   },
   "file_extension": ".py",
   "mimetype": "text/x-python",
   "name": "python",
   "nbconvert_exporter": "python",
   "pygments_lexer": "ipython3",
   "version": "3.8.8"
  }
 },
 "nbformat": 4,
 "nbformat_minor": 5
}
