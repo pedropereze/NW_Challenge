{
 "cells": [
  {
   "cell_type": "code",
   "execution_count": 406,
   "id": "ea32d20b",
   "metadata": {},
   "outputs": [],
   "source": [
    "import pandas as pd\n",
    "import numpy as np\n",
    "import mysql.connector\n",
    "from mysql.connector import Error"
   ]
  },
  {
   "cell_type": "markdown",
   "id": "56d594f7",
   "metadata": {},
   "source": [
    "# Carga de datos y creación de DB\n",
    "\n",
    "Como la data del problema esta en el archivo trips.csv y se nos pide trabajar desde una DB en SQL, se creará la DB en MySQL la database trips, con la tabla movimientos en donde se almacenará la información"
   ]
  },
  {
   "cell_type": "code",
   "execution_count": 407,
   "id": "b6ab150a",
   "metadata": {},
   "outputs": [
    {
     "data": {
      "text/plain": [
       "Index(['region', 'origin_coord', 'destination_coord', 'datetime',\n",
       "       'datasource'],\n",
       "      dtype='object')"
      ]
     },
     "execution_count": 407,
     "metadata": {},
     "output_type": "execute_result"
    }
   ],
   "source": [
    "df = pd.read_csv('trips.csv')\n",
    "df.columns"
   ]
  },
  {
   "cell_type": "code",
   "execution_count": 408,
   "id": "4c7f5e59",
   "metadata": {},
   "outputs": [
    {
     "name": "stdout",
     "output_type": "stream",
     "text": [
      "<class 'pandas.core.frame.DataFrame'>\n",
      "RangeIndex: 100 entries, 0 to 99\n",
      "Data columns (total 5 columns):\n",
      " #   Column             Non-Null Count  Dtype \n",
      "---  ------             --------------  ----- \n",
      " 0   region             100 non-null    object\n",
      " 1   origin_coord       100 non-null    object\n",
      " 2   destination_coord  100 non-null    object\n",
      " 3   datetime           100 non-null    object\n",
      " 4   datasource         100 non-null    object\n",
      "dtypes: object(5)\n",
      "memory usage: 4.0+ KB\n"
     ]
    }
   ],
   "source": [
    "df.info()"
   ]
  },
  {
   "cell_type": "code",
   "execution_count": 409,
   "id": "2e16f1ce",
   "metadata": {
    "scrolled": true
   },
   "outputs": [
    {
     "data": {
      "text/html": [
       "<div>\n",
       "<style scoped>\n",
       "    .dataframe tbody tr th:only-of-type {\n",
       "        vertical-align: middle;\n",
       "    }\n",
       "\n",
       "    .dataframe tbody tr th {\n",
       "        vertical-align: top;\n",
       "    }\n",
       "\n",
       "    .dataframe thead th {\n",
       "        text-align: right;\n",
       "    }\n",
       "</style>\n",
       "<table border=\"1\" class=\"dataframe\">\n",
       "  <thead>\n",
       "    <tr style=\"text-align: right;\">\n",
       "      <th></th>\n",
       "      <th>region</th>\n",
       "      <th>origin_coord</th>\n",
       "      <th>destination_coord</th>\n",
       "      <th>datetime</th>\n",
       "      <th>datasource</th>\n",
       "    </tr>\n",
       "  </thead>\n",
       "  <tbody>\n",
       "    <tr>\n",
       "      <th>0</th>\n",
       "      <td>Prague</td>\n",
       "      <td>POINT (14.4973794438195 50.00136875782316)</td>\n",
       "      <td>POINT (14.43109483523328 50.04052930943246)</td>\n",
       "      <td>2018-05-28 09:03:40</td>\n",
       "      <td>funny_car</td>\n",
       "    </tr>\n",
       "    <tr>\n",
       "      <th>1</th>\n",
       "      <td>Turin</td>\n",
       "      <td>POINT (7.672837913286881 44.9957109242058)</td>\n",
       "      <td>POINT (7.720368637535126 45.06782385393849)</td>\n",
       "      <td>2018-05-21 02:54:04</td>\n",
       "      <td>baba_car</td>\n",
       "    </tr>\n",
       "    <tr>\n",
       "      <th>2</th>\n",
       "      <td>Prague</td>\n",
       "      <td>POINT (14.32427345662177 50.00002074358429)</td>\n",
       "      <td>POINT (14.47767895969969 50.09339790740321)</td>\n",
       "      <td>2018-05-13 08:52:25</td>\n",
       "      <td>cheap_mobile</td>\n",
       "    </tr>\n",
       "    <tr>\n",
       "      <th>3</th>\n",
       "      <td>Turin</td>\n",
       "      <td>POINT (7.541509189114433 45.09160503827746)</td>\n",
       "      <td>POINT (7.74528653441973 45.02628598341506)</td>\n",
       "      <td>2018-05-06 09:49:16</td>\n",
       "      <td>bad_diesel_vehicles</td>\n",
       "    </tr>\n",
       "    <tr>\n",
       "      <th>4</th>\n",
       "      <td>Turin</td>\n",
       "      <td>POINT (7.614078119815749 45.13433106465422)</td>\n",
       "      <td>POINT (7.527497142312585 45.03335051325654)</td>\n",
       "      <td>2018-05-23 12:45:54</td>\n",
       "      <td>pt_search_app</td>\n",
       "    </tr>\n",
       "  </tbody>\n",
       "</table>\n",
       "</div>"
      ],
      "text/plain": [
       "   region                                 origin_coord  \\\n",
       "0  Prague   POINT (14.4973794438195 50.00136875782316)   \n",
       "1   Turin   POINT (7.672837913286881 44.9957109242058)   \n",
       "2  Prague  POINT (14.32427345662177 50.00002074358429)   \n",
       "3   Turin  POINT (7.541509189114433 45.09160503827746)   \n",
       "4   Turin  POINT (7.614078119815749 45.13433106465422)   \n",
       "\n",
       "                             destination_coord             datetime  \\\n",
       "0  POINT (14.43109483523328 50.04052930943246)  2018-05-28 09:03:40   \n",
       "1  POINT (7.720368637535126 45.06782385393849)  2018-05-21 02:54:04   \n",
       "2  POINT (14.47767895969969 50.09339790740321)  2018-05-13 08:52:25   \n",
       "3   POINT (7.74528653441973 45.02628598341506)  2018-05-06 09:49:16   \n",
       "4  POINT (7.527497142312585 45.03335051325654)  2018-05-23 12:45:54   \n",
       "\n",
       "            datasource  \n",
       "0            funny_car  \n",
       "1             baba_car  \n",
       "2         cheap_mobile  \n",
       "3  bad_diesel_vehicles  \n",
       "4        pt_search_app  "
      ]
     },
     "execution_count": 409,
     "metadata": {},
     "output_type": "execute_result"
    }
   ],
   "source": [
    "df.head()"
   ]
  },
  {
   "cell_type": "code",
   "execution_count": 410,
   "id": "831c5aba",
   "metadata": {},
   "outputs": [],
   "source": [
    "# Definimos la función para crear la conexión al servidor\n",
    "def create_server_connection(host_name, user_name, user_password):\n",
    "    connection = None\n",
    "    try:\n",
    "        connection = mysql.connector.connect(\n",
    "            host=host_name,\n",
    "            user=user_name,\n",
    "            passwd=user_password\n",
    "        )\n",
    "        print(\"MySQL Database connection successful\")\n",
    "    except Error as err:\n",
    "        print(f\"Error: '{err}'\")\n",
    "\n",
    "    return connection\n",
    "\n",
    "# Definimos la función para crear la base de datos\n",
    "def create_database(connection, query):\n",
    "    cursor = connection.cursor()\n",
    "    try:\n",
    "        cursor.execute(query)\n",
    "        print(\"Database created successfully\")\n",
    "    except Error as err:\n",
    "        print(f\"Error: '{err}'\")"
   ]
  },
  {
   "cell_type": "code",
   "execution_count": 411,
   "id": "1dbee51a",
   "metadata": {},
   "outputs": [
    {
     "name": "stdout",
     "output_type": "stream",
     "text": [
      "MySQL Database connection successful\n",
      "Error: '1007 (HY000): Can't create database 'trips'; database exists'\n"
     ]
    }
   ],
   "source": [
    "# Nos conectamos al servidor\n",
    "connection = create_server_connection(\"localhost\", \"root\", \"NW_server_pw\")\n",
    "# Creamos la base de datos\n",
    "create_database(connection, \"CREATE DATABASE trips\")"
   ]
  },
  {
   "cell_type": "code",
   "execution_count": 412,
   "id": "ffd4eb90",
   "metadata": {},
   "outputs": [],
   "source": [
    "def create_db_connection(host_name, user_name, user_password, db_name):\n",
    "    connection = None\n",
    "    try:\n",
    "        connection = mysql.connector.connect(\n",
    "            host=host_name,\n",
    "            user=user_name,\n",
    "            passwd=user_password,\n",
    "            database=db_name\n",
    "        )\n",
    "        print(\"MySQL Database connection successful\")\n",
    "    except Error as err:\n",
    "        print(f\"Error: '{err}'\")\n",
    "\n",
    "    return connection\n",
    "\n",
    "def execute_query(connection, query):\n",
    "    cursor = connection.cursor()\n",
    "    try:\n",
    "        cursor.execute(query)\n",
    "        connection.commit()\n",
    "        print(\"Query successful\")\n",
    "    except Error as err:\n",
    "        print(f\"Error: '{err}'\")"
   ]
  },
  {
   "cell_type": "code",
   "execution_count": 413,
   "id": "451d120c",
   "metadata": {},
   "outputs": [
    {
     "name": "stdout",
     "output_type": "stream",
     "text": [
      "MySQL Database connection successful\n",
      "Query successful\n"
     ]
    }
   ],
   "source": [
    "# Query para crear la tabla viajes\n",
    "create_viaje_table = \"\"\"\n",
    "CREATE TABLE viajes (\n",
    "  region VARCHAR(7) NOT NULL,\n",
    "  origin_coord VARCHAR(50) NOT NULL,\n",
    "  destination_coord VARCHAR(50) NOT NULL,\n",
    "  datetime DATETIME NOT NULL,\n",
    "  datasource VARCHAR(20) NOT NULL\n",
    "  );\n",
    " \"\"\"\n",
    "\n",
    "# Nos conectamos a la base de datos\n",
    "connection = create_db_connection(\"localhost\", \"root\", \"NW_server_pw\", \"trips\")\n",
    "# Ejecutamos la query\n",
    "execute_query(connection, create_viaje_table) "
   ]
  },
  {
   "cell_type": "code",
   "execution_count": 414,
   "id": "1b141334",
   "metadata": {},
   "outputs": [],
   "source": [
    "cols = \"`,`\".join([str(i) for i in df.columns.tolist()])\n",
    "cursor = connection.cursor()\n",
    "\n",
    "# Insertamos las filas del DataFrame una por una\n",
    "for i,row in df.iterrows():\n",
    "    sql = \"INSERT INTO `viajes` (`\" +cols + \"`) VALUES (\" + \"%s,\"*(len(row)-1) + \"%s)\"\n",
    "    cursor.execute(sql, tuple(row))\n",
    "    connection.commit()"
   ]
  },
  {
   "cell_type": "code",
   "execution_count": 415,
   "id": "c18d78e2",
   "metadata": {},
   "outputs": [],
   "source": [
    "# Terminamos la conexión con la base de datos\n",
    "connection.close()"
   ]
  },
  {
   "cell_type": "markdown",
   "id": "86486f2b",
   "metadata": {},
   "source": [
    " # Conexión a la DB\n",
    " \n",
    " Ahora se asume que la información en la base de datos esta actualizada y solo se necesita conectarse desde Python para trabajar en el problema"
   ]
  },
  {
   "cell_type": "code",
   "execution_count": 416,
   "id": "12ab9aff",
   "metadata": {},
   "outputs": [
    {
     "name": "stdout",
     "output_type": "stream",
     "text": [
      "MySQL Database connection successful\n"
     ]
    }
   ],
   "source": [
    "# Nos conectamos a la base de datos 'trips'\n",
    "connection = create_db_connection(\"localhost\", \"root\", \"NW_server_pw\", \"trips\")"
   ]
  },
  {
   "cell_type": "code",
   "execution_count": 417,
   "id": "a6d99bfd",
   "metadata": {},
   "outputs": [
    {
     "data": {
      "text/html": [
       "<div>\n",
       "<style scoped>\n",
       "    .dataframe tbody tr th:only-of-type {\n",
       "        vertical-align: middle;\n",
       "    }\n",
       "\n",
       "    .dataframe tbody tr th {\n",
       "        vertical-align: top;\n",
       "    }\n",
       "\n",
       "    .dataframe thead th {\n",
       "        text-align: right;\n",
       "    }\n",
       "</style>\n",
       "<table border=\"1\" class=\"dataframe\">\n",
       "  <thead>\n",
       "    <tr style=\"text-align: right;\">\n",
       "      <th></th>\n",
       "      <th>region</th>\n",
       "      <th>origin_coord</th>\n",
       "      <th>destination_coord</th>\n",
       "      <th>datetime</th>\n",
       "      <th>datasource</th>\n",
       "    </tr>\n",
       "  </thead>\n",
       "  <tbody>\n",
       "    <tr>\n",
       "      <th>0</th>\n",
       "      <td>Prague</td>\n",
       "      <td>POINT (14.4973794438195 50.00136875782316)</td>\n",
       "      <td>POINT (14.43109483523328 50.04052930943246)</td>\n",
       "      <td>2018-05-28 09:03:40</td>\n",
       "      <td>funny_car</td>\n",
       "    </tr>\n",
       "    <tr>\n",
       "      <th>1</th>\n",
       "      <td>Turin</td>\n",
       "      <td>POINT (7.672837913286881 44.9957109242058)</td>\n",
       "      <td>POINT (7.720368637535126 45.06782385393849)</td>\n",
       "      <td>2018-05-21 02:54:04</td>\n",
       "      <td>baba_car</td>\n",
       "    </tr>\n",
       "    <tr>\n",
       "      <th>2</th>\n",
       "      <td>Prague</td>\n",
       "      <td>POINT (14.32427345662177 50.00002074358429)</td>\n",
       "      <td>POINT (14.47767895969969 50.09339790740321)</td>\n",
       "      <td>2018-05-13 08:52:25</td>\n",
       "      <td>cheap_mobile</td>\n",
       "    </tr>\n",
       "    <tr>\n",
       "      <th>3</th>\n",
       "      <td>Turin</td>\n",
       "      <td>POINT (7.541509189114433 45.09160503827746)</td>\n",
       "      <td>POINT (7.74528653441973 45.02628598341506)</td>\n",
       "      <td>2018-05-06 09:49:16</td>\n",
       "      <td>bad_diesel_vehicles</td>\n",
       "    </tr>\n",
       "    <tr>\n",
       "      <th>4</th>\n",
       "      <td>Turin</td>\n",
       "      <td>POINT (7.614078119815749 45.13433106465422)</td>\n",
       "      <td>POINT (7.527497142312585 45.03335051325654)</td>\n",
       "      <td>2018-05-23 12:45:54</td>\n",
       "      <td>pt_search_app</td>\n",
       "    </tr>\n",
       "  </tbody>\n",
       "</table>\n",
       "</div>"
      ],
      "text/plain": [
       "   region                                 origin_coord  \\\n",
       "0  Prague   POINT (14.4973794438195 50.00136875782316)   \n",
       "1   Turin   POINT (7.672837913286881 44.9957109242058)   \n",
       "2  Prague  POINT (14.32427345662177 50.00002074358429)   \n",
       "3   Turin  POINT (7.541509189114433 45.09160503827746)   \n",
       "4   Turin  POINT (7.614078119815749 45.13433106465422)   \n",
       "\n",
       "                             destination_coord            datetime  \\\n",
       "0  POINT (14.43109483523328 50.04052930943246) 2018-05-28 09:03:40   \n",
       "1  POINT (7.720368637535126 45.06782385393849) 2018-05-21 02:54:04   \n",
       "2  POINT (14.47767895969969 50.09339790740321) 2018-05-13 08:52:25   \n",
       "3   POINT (7.74528653441973 45.02628598341506) 2018-05-06 09:49:16   \n",
       "4  POINT (7.527497142312585 45.03335051325654) 2018-05-23 12:45:54   \n",
       "\n",
       "            datasource  \n",
       "0            funny_car  \n",
       "1             baba_car  \n",
       "2         cheap_mobile  \n",
       "3  bad_diesel_vehicles  \n",
       "4        pt_search_app  "
      ]
     },
     "execution_count": 417,
     "metadata": {},
     "output_type": "execute_result"
    }
   ],
   "source": [
    "# Cargamos la información de la base de datos a un dataframe\n",
    "sql_query = pd.read_sql_query ('''\n",
    "                               SELECT\n",
    "                               *\n",
    "                               FROM viajes\n",
    "                               ''', connection)\n",
    "\n",
    "data= pd.DataFrame(sql_query, columns = [\"region\", \"origin_coord\", \"destination_coord\",\n",
    "                                        \"datetime\", \"datasource\"])\n",
    "data.head()"
   ]
  },
  {
   "cell_type": "code",
   "execution_count": 418,
   "id": "5df349f1",
   "metadata": {},
   "outputs": [],
   "source": [
    "# Terminamos la conexión con la base de datos\n",
    "connection.close()"
   ]
  },
  {
   "cell_type": "markdown",
   "id": "dfe457b6",
   "metadata": {},
   "source": [
    "# Problema 1"
   ]
  },
  {
   "cell_type": "code",
   "execution_count": 419,
   "id": "1c83d038",
   "metadata": {},
   "outputs": [],
   "source": [
    "import matplotlib.pyplot as plt\n",
    "from sklearn.cluster import KMeans\n",
    "from sklearn.metrics import pairwise_distances_argmin_min\n",
    "from sklearn.preprocessing import StandardScaler"
   ]
  },
  {
   "cell_type": "code",
   "execution_count": 420,
   "id": "75856bc2",
   "metadata": {},
   "outputs": [],
   "source": [
    "# Definimos función que transforma las coordenadas en pares\n",
    "def to_coord(col):\n",
    "    aux = data[col]\n",
    "    new_col = np.empty([len(aux),2])\n",
    "    for i in range(len(aux)):\n",
    "        x,y = aux[i][7:-1].split()\n",
    "        new_col[i,:] = np.array([x,y]) \n",
    "    return new_col"
   ]
  },
  {
   "cell_type": "code",
   "execution_count": 513,
   "id": "ddd7551b",
   "metadata": {},
   "outputs": [],
   "source": [
    "# Coordenadas origen y destino en arrays numéricos\n",
    "new_origin = to_coord('origin_coord')\n",
    "new_destin = to_coord('destination_coord')"
   ]
  },
  {
   "cell_type": "code",
   "execution_count": 459,
   "id": "ce9476c1",
   "metadata": {},
   "outputs": [],
   "source": [
    "# Aislamos la hora (hh,mm,ss) de cada viaje \n",
    "hora = np.array([data['datetime'][i].time() for i in range(len(data))])\n",
    "# Pasamos la hora a segundos de manera numérica\n",
    "hora = np.array([hora[i].hour*(60**2)+hora[i].minute*60+hora[i].second for i in range(len(data))])"
   ]
  },
  {
   "cell_type": "markdown",
   "id": "a4fe3eda",
   "metadata": {},
   "source": [
    "### K-means"
   ]
  },
  {
   "cell_type": "code",
   "execution_count": 582,
   "id": "66dffb6f",
   "metadata": {},
   "outputs": [
    {
     "data": {
      "image/png": "[encoded data removed]",
      "text/plain": [
       "<Figure size 576x432 with 1 Axes>"
      ]
     },
     "metadata": {
      "needs_background": "light"
     },
     "output_type": "display_data"
    }
   ],
   "source": [
    "X = np.empty([len(data),4])\n",
    "X[:,0] = new_origin[:,0]\n",
    "X[:,1] = new_destin[:,0]\n",
    "X[:,2] = new_origin[:,1]\n",
    "X[:,3] = new_destin[:,1]\n",
    "\n",
    "Nc = range(3, 60)\n",
    "kmeans = [KMeans(n_clusters=i) for i in Nc]\n",
    "score = [kmeans[i].fit(X).score(X) for i in range(len(kmeans))]\n",
    "f = plt.figure()\n",
    "f.set_figwidth(8)\n",
    "f.set_figheight(6)\n",
    "plt.plot(Nc,score)\n",
    "plt.grid()\n",
    "plt.xlabel('Number of Clusters')\n",
    "plt.ylabel('Score')\n",
    "plt.title('Elbow Curve')\n",
    "\n",
    "plt.show()"
   ]
  },
  {
   "cell_type": "markdown",
   "id": "c98060b7",
   "metadata": {},
   "source": [
    "El gráfico sugiere una división de 21 grupos "
   ]
  },
  {
   "cell_type": "code",
   "execution_count": 478,
   "id": "d318ebbd",
   "metadata": {
    "scrolled": true
   },
   "outputs": [],
   "source": [
    "kmeans = KMeans(n_clusters=21).fit(X)\n",
    "centroids = kmeans.cluster_centers_"
   ]
  },
  {
   "cell_type": "markdown",
   "id": "f667b6b4",
   "metadata": {},
   "source": [
    "### Agrupamos los viajes\n",
    "\n",
    "En base a los 3 k-means realizados, agrupamos los viajes según la predicción de los modelos ajustados"
   ]
  },
  {
   "cell_type": "code",
   "execution_count": 464,
   "id": "48fe5aaf",
   "metadata": {},
   "outputs": [],
   "source": [
    "labels = kmeans.predict(X)"
   ]
  },
  {
   "cell_type": "code",
   "execution_count": 465,
   "id": "374b0007",
   "metadata": {},
   "outputs": [
    {
     "name": "stdout",
     "output_type": "stream",
     "text": [
      "Grupos Prague:[[17, 29, 40, 44, 64, 99], [26, 32, 54, 73], [2, 34, 47, 52, 61, 97], [13, 27, 60, 67, 69, 79], [0, 15, 36, 42, 50, 57, 77], [21, 35, 53, 59, 95]]\n",
      "Grupos Turin:[[3, 16, 46, 49, 58, 78, 84], [18, 31, 33, 45, 62, 70, 71, 86], [4, 41, 87], [56, 66, 76], [1, 37, 43, 63, 65], [7, 14, 20, 72], [12, 24, 30, 68, 74], [8, 28, 90]]\n",
      "Grupos Hamburg:[[9, 39, 82, 88, 92, 96], [5, 6, 19, 75, 94], [10, 23, 48], [22, 38, 55, 81, 83], [80, 98], [51, 85, 91, 93], [11, 25, 89]]\n"
     ]
    }
   ],
   "source": [
    "praga = [[] for i in range(len(centroids_praga))]\n",
    "for i in range(len(labels_praga)):\n",
    "    praga[labels_praga[i]].append(praga_ind[i])\n",
    "    \n",
    "turin = [[] for i in range(len(centroids_turin))]\n",
    "for i in range(len(labels_turin)):\n",
    "    turin[labels_turin[i]].append(turin_ind[i])\n",
    "    \n",
    "ham = [[] for i in range(len(centroids_ham))]\n",
    "for i in range(len(labels_ham)):\n",
    "    ham[labels_ham[i]].append(hamburg_ind[i])\n",
    "    \n",
    "print('Grupos Prague:' + str(praga))\n",
    "print('Grupos Turin:' + str(turin))\n",
    "print('Grupos Hamburg:' + str(ham))"
   ]
  },
  {
   "cell_type": "code",
   "execution_count": 475,
   "id": "fe068d71",
   "metadata": {},
   "outputs": [
    {
     "data": {
      "text/html": [
       "<div>\n",
       "<style scoped>\n",
       "    .dataframe tbody tr th:only-of-type {\n",
       "        vertical-align: middle;\n",
       "    }\n",
       "\n",
       "    .dataframe tbody tr th {\n",
       "        vertical-align: top;\n",
       "    }\n",
       "\n",
       "    .dataframe thead th {\n",
       "        text-align: right;\n",
       "    }\n",
       "</style>\n",
       "<table border=\"1\" class=\"dataframe\">\n",
       "  <thead>\n",
       "    <tr style=\"text-align: right;\">\n",
       "      <th></th>\n",
       "      <th>region</th>\n",
       "      <th>origin_coord</th>\n",
       "      <th>destination_coord</th>\n",
       "      <th>datetime</th>\n",
       "      <th>datasource</th>\n",
       "    </tr>\n",
       "  </thead>\n",
       "  <tbody>\n",
       "    <tr>\n",
       "      <th>9</th>\n",
       "      <td>Hamburg</td>\n",
       "      <td>POINT (10.05260098579818 53.53497739746809)</td>\n",
       "      <td>POINT (10.05889649564977 53.49486429314853)</td>\n",
       "      <td>2018-05-04 00:46:12</td>\n",
       "      <td>cheap_mobile</td>\n",
       "    </tr>\n",
       "    <tr>\n",
       "      <th>39</th>\n",
       "      <td>Hamburg</td>\n",
       "      <td>POINT (10.2154964127794 53.53161090271701)</td>\n",
       "      <td>POINT (10.20544652088819 53.5064112329052)</td>\n",
       "      <td>2018-05-18 11:07:29</td>\n",
       "      <td>cheap_mobile</td>\n",
       "    </tr>\n",
       "    <tr>\n",
       "      <th>82</th>\n",
       "      <td>Hamburg</td>\n",
       "      <td>POINT (10.08064772413434 53.5438877700869)</td>\n",
       "      <td>POINT (9.985427968556252 53.41711096758155)</td>\n",
       "      <td>2018-05-29 07:02:25</td>\n",
       "      <td>cheap_mobile</td>\n",
       "    </tr>\n",
       "    <tr>\n",
       "      <th>88</th>\n",
       "      <td>Hamburg</td>\n",
       "      <td>POINT (10.15410920623684 53.53092417407957)</td>\n",
       "      <td>POINT (10.1041201879328 53.42920211427293)</td>\n",
       "      <td>2018-05-27 17:41:17</td>\n",
       "      <td>funny_car</td>\n",
       "    </tr>\n",
       "    <tr>\n",
       "      <th>92</th>\n",
       "      <td>Hamburg</td>\n",
       "      <td>POINT (10.17378993097742 53.5467336774148)</td>\n",
       "      <td>POINT (10.21529787231755 53.50485266884467)</td>\n",
       "      <td>2018-05-21 04:06:11</td>\n",
       "      <td>pt_search_app</td>\n",
       "    </tr>\n",
       "    <tr>\n",
       "      <th>96</th>\n",
       "      <td>Hamburg</td>\n",
       "      <td>POINT (9.996714798980491 53.52203690589671)</td>\n",
       "      <td>POINT (10.17431393081631 53.51796499041119)</td>\n",
       "      <td>2018-05-23 12:43:17</td>\n",
       "      <td>baba_car</td>\n",
       "    </tr>\n",
       "  </tbody>\n",
       "</table>\n",
       "</div>"
      ],
      "text/plain": [
       "     region                                 origin_coord  \\\n",
       "9   Hamburg  POINT (10.05260098579818 53.53497739746809)   \n",
       "39  Hamburg   POINT (10.2154964127794 53.53161090271701)   \n",
       "82  Hamburg   POINT (10.08064772413434 53.5438877700869)   \n",
       "88  Hamburg  POINT (10.15410920623684 53.53092417407957)   \n",
       "92  Hamburg   POINT (10.17378993097742 53.5467336774148)   \n",
       "96  Hamburg  POINT (9.996714798980491 53.52203690589671)   \n",
       "\n",
       "                              destination_coord            datetime  \\\n",
       "9   POINT (10.05889649564977 53.49486429314853) 2018-05-04 00:46:12   \n",
       "39   POINT (10.20544652088819 53.5064112329052) 2018-05-18 11:07:29   \n",
       "82  POINT (9.985427968556252 53.41711096758155) 2018-05-29 07:02:25   \n",
       "88   POINT (10.1041201879328 53.42920211427293) 2018-05-27 17:41:17   \n",
       "92  POINT (10.21529787231755 53.50485266884467) 2018-05-21 04:06:11   \n",
       "96  POINT (10.17431393081631 53.51796499041119) 2018-05-23 12:43:17   \n",
       "\n",
       "       datasource  \n",
       "9    cheap_mobile  \n",
       "39   cheap_mobile  \n",
       "82   cheap_mobile  \n",
       "88      funny_car  \n",
       "92  pt_search_app  \n",
       "96       baba_car  "
      ]
     },
     "execution_count": 475,
     "metadata": {},
     "output_type": "execute_result"
    }
   ],
   "source": [
    "data.iloc[ham[0],:]"
   ]
  },
  {
   "cell_type": "markdown",
   "id": "1b6302f7",
   "metadata": {},
   "source": [
    "# Problema 2"
   ]
  },
  {
   "cell_type": "code",
   "execution_count": 396,
   "id": "1a8927ad",
   "metadata": {},
   "outputs": [],
   "source": [
    "# Definimos función que transforma las coordenadas en pares para un dataframe dado\n",
    "def to_coord_reg(df, col):\n",
    "    aux = df[col]\n",
    "    new_col = np.empty([len(aux),2])\n",
    "    for i in range(len(aux)):\n",
    "        x,y = aux[aux.index[i]][7:-1].split()\n",
    "        new_col[i,:] = np.array([x,y]) \n",
    "    return new_col"
   ]
  },
  {
   "cell_type": "code",
   "execution_count": 501,
   "id": "2ffcbb10",
   "metadata": {},
   "outputs": [],
   "source": [
    "#Se asume que el bounding box se entrega como coordenadas x1,y1,x2,y2, donde x1<=x2 e y1<=y2\n",
    "#Se entiende que tanto el origen como el destino tienen que estar dentro del bounding box\n",
    "def weekly_mean(x1,y1,x2,y2,region):\n",
    "    #query región\n",
    "    data_reg = data[data['region'] == region].copy()\n",
    "    \n",
    "    #pasamos las coordenadas a pares numéricos\n",
    "    new_origen = to_coord_reg(data_reg, 'origin_coord')\n",
    "    new_destin = to_coord_reg(data_reg, 'destination_coord')\n",
    "    \n",
    "    #Se filtra los viajes dentro de la bounding box\n",
    "    low_bound = [all(new_origen[i] >= [x1,y1]) and all(new_destin[i] >= [x1,y1]) \n",
    "                 for i in range(len(data_reg))]\n",
    "    up_bound = [all(new_origen[i] <= [x2,y2]) and all(new_destin[i] <= [x2,y2]) \n",
    "                 for i in range(len(data_reg))]\n",
    "    #query bounding box\n",
    "    data_bound = data_reg[low_bound and up_bound]\n",
    "    \n",
    "    #agrupamos por semana y sacamos promedio\n",
    "    week_mean = data_bound.groupby(pd.Grouper(key='datetime', freq='W-MON', label='left')\n",
    "                        )['datetime'].count().mean()\n",
    "    return week_mean"
   ]
  },
  {
   "cell_type": "code",
   "execution_count": 502,
   "id": "ffe7371c",
   "metadata": {},
   "outputs": [
    {
     "data": {
      "text/plain": [
       "6.8"
      ]
     },
     "execution_count": 502,
     "metadata": {},
     "output_type": "execute_result"
    }
   ],
   "source": [
    "weekly_mean(0,0,100,100,'Prague')"
   ]
  },
  {
   "cell_type": "code",
   "execution_count": null,
   "id": "b9b1f575",
   "metadata": {},
   "outputs": [],
   "source": []
  }
 ],
 "metadata": {
  "kernelspec": {
   "display_name": "Python 3",
   "language": "python",
   "name": "python3"
  },
  "language_info": {
   "codemirror_mode": {
    "name": "ipython",
    "version": 3
   },
   "file_extension": ".py",
   "mimetype": "text/x-python",
   "name": "python",
   "nbconvert_exporter": "python",
   "pygments_lexer": "ipython3",
   "version": "3.8.8"
  }
 },
 "nbformat": 4,
 "nbformat_minor": 5
}
